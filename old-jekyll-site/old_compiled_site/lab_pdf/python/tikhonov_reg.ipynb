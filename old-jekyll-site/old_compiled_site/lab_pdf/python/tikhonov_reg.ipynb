{
 "cells": [
  {
   "cell_type": "markdown",
   "metadata": {},
   "source": [
    "# Регуляризация Тихонова для решения СЛАУ"
   ]
  },
  {
   "cell_type": "markdown",
   "metadata": {},
   "source": [
    "Рассмотрим СЛАУ:\n",
    "\n",
    "$$\n",
    "Ax=b,\\quad z\\in R^n\n",
    "$$\n",
    "\n"
   ]
  },
  {
   "cell_type": "markdown",
   "metadata": {},
   "source": [
    "Регуляризация Тихонова заключается в минимизации сглаживающего функционала:\n",
    "\n",
    "\\begin{equation*}\n",
    "  \\| A {x} - {b} \\|_2^2 + \\alpha \\| {x} \\|_2^2 \\to \\min.\n",
    "\\end{equation*}\n",
    "\n",
    "Известно, что от задачи поиска минимума такого функционала можно перейти к задаче поиска решения уравнения \n",
    "\n",
    "\\begin{equation*}\n",
    "\\newcommand{\\trans}[1]{{#1}^{\\text{T}}}      % transposition\n",
    "\\newcommand{\\vec}[1]{{#1}}\n",
    "\\newcommand{\\invtrans}[1]{{#1}^{-\\text{T}}}  % inverse and transposition\n",
    "  (\\trans{A}A + \\alpha E) \\vec{x}_\\alpha = \\trans{A} \\vec{b},\n",
    "\\end{equation*}\n",
    "\n",
    "где $E$ - единичная матрица, совпадающая по размерности с $A$, $\\alpha$ - параметр регуляризации, задающий \"сглаженность\" решения.\n",
    "\n",
    "Решение:\n",
    "\n",
    "\\begin{equation*}\n",
    "   \\vec{x}_\\alpha=(\\trans{A}A + \\alpha E)^{-1}\\trans{A} \\vec{b},\n",
    "\\end{equation*}\n",
    "\n",
    "При $\\alpha\\to0$ решение такого уравнения сводится к изначальной задаче.\n",
    "\n",
    "\n",
    "Реализация регуляризации возможна как учетом вектора ошибки (если он известен), так и без него. \n",
    "\n",
    "Задача выбора параметра регуляризации может решаться разными способами, наипростейший (но неустойчивый) способ - минимизация невязки псевдорешения, более устойчивый - метод обобщенной невязки.\n",
    "\n",
    "В этой программе для выбора параметра применяется т.н. \"обобщенная перекрёстная проверка\"."
   ]
  },
  {
   "cell_type": "markdown",
   "metadata": {},
   "source": [
    "### Обобщенная перекрёстная проверка\n",
    "\n",
    "Не приводя вывод, укажем, что определение оптимального $\\alpha$, в случае когда нет априорной информации об ошибке, может быть выполнено методом перекрестной проверки (статистический метод). [(см. статью, формула 9)](https://pdfs.semanticscholar.org/886c/dafdfec18b0fdaa2a603d52126e212a144aa.pdf)\n",
    "\n",
    "В этом методе составляется функционал перекрестной проверки $\\Phi$, и для нахождения оптимального $\\alpha$ его необходимо минимизировать:\n",
    "\n",
    "\\begin{align*}\n",
    "\\DeclareMathOperator{\\trace}{trace}\n",
    "  \\Phi (\\alpha) := {} &\n",
    "    \\frac{\\| \\vec{b} - A (\\trans{A} A + \\alpha I)^{-1}\n",
    "                       \\trans{A} \\vec{b} \\|}\n",
    "         {\\trace \\bigl( I - A (\\trans{A} A + \\alpha I)^{-1}\n",
    "                            \\trans{A} \\bigr)}                         \\\\\n",
    "  {} = {} &\n",
    "    \\frac{\\| (A \\trans{A} + \\alpha I)^{-1} \\vec{b} \\|}\n",
    "         {\\trace \\bigl( (A \\trans{A} + \\alpha I)^{-1} \\bigr)} \\to \\min.\n",
    "\\end{align*}"
   ]
  },
  {
   "cell_type": "markdown",
   "metadata": {},
   "source": [
    "### Модельная задача - возмущение СЛАУ"
   ]
  },
  {
   "cell_type": "markdown",
   "metadata": {},
   "source": [
    "Рассмотрим СЛАУ с малым возмущением $\\varepsilon$:\n",
    "\n",
    "\\begin{equation}\n",
    "\\begin{pmatrix} \n",
    "  1     & 1\\\\ \n",
    "  0 & \\varepsilon\n",
    "\\end{pmatrix}\\cdot\\begin{pmatrix} \n",
    "  x_1\\\\\n",
    "  x_2\\\\\n",
    "\\end{pmatrix}=\n",
    "\\begin{pmatrix} \n",
    "    2\\\\\n",
    "    \\varepsilon^2\n",
    "\\end{pmatrix}\n",
    "\\label{eq:1} \\tag{1}\n",
    "\\end{equation}\n",
    "\n",
    "Здесь легко записывается невозмущенная система (в силу того, что мы сами задали возмущение):\n",
    "\n",
    "$$\n",
    "\\begin{pmatrix} \n",
    "  1     & 1\\\\ \n",
    "  0 & 0\n",
    "\\end{pmatrix}\\cdot\\begin{pmatrix} \n",
    "  x_1\\\\\n",
    "  x_2\\\\\n",
    "\\end{pmatrix}=\n",
    "\\begin{pmatrix} \n",
    "    2\\\\\n",
    "    0\n",
    "\\end{pmatrix}\n",
    "\\label{eq:2} \\tag{2}\n",
    "$$\n",
    "\n",
    "Для невозмущенной системы существует нормальное решение. По определению [(см. книгу, стр 150)](https://www.twirpx.com/file/2488131/) нормальное решение можно получить, взяв возмущенную систему, домножив левую и правую части на $\\trans{A}$, затем найти решение и устремить возмущение к нулю:\n",
    "\n",
    "$$\n",
    "    x_{normal}=\\left[(\\trans{A}A)^{-1}\\cdot\\trans{A}b \\right]_{\\varepsilon=0}=(1,1)\n",
    "$$\n",
    "\n",
    "В то же время, если рассчитать классическое решение возмущенной системы $\\eqref{eq:1}$, а потом устремить возмущение в ноль, классическое решение не совпадает с нормальным:\n",
    "\n",
    "$$\n",
    "    x_{classic}=\\left[A^{-1}\\cdot b \\right]_{\\varepsilon=0}=(2-\\varepsilon,\\varepsilon)_{\\varepsilon=0}=(2,0)\n",
    "$$\n",
    "\n",
    "Практически такую систему можно (чисто теоретически, так как пример чисто математический) в результате измерений, получив матрицу $A$ и вектор $b$ с такой погрешностью, что $A_{22}=\\varepsilon$ и $b_2=\\varepsilon^2$, а решение будет находиться близким к классическому для невозмущенной системы. \n",
    "\n",
    "Хотя такое решение будет казаться хорошим (честно рассчитанным), но тем не менее, оно получено при ненулевом возмущении, обеспеченным погрешностью, а значит, реальный ответ должен быть решением невозмущенной системы (которое существует только нормальное).\n",
    "\n",
    "Таким образом, можно сформулировать критерий проверки нашего алгоритма регуляризации: для больших возмущений он должен давать близкое к классическому решение (большое возмущение не может быть объяснено погрешностью), а для малых должен давать  близкое к псевдорешению решение."
   ]
  },
  {
   "cell_type": "code",
   "execution_count": 40,
   "metadata": {},
   "outputs": [
    {
     "name": "stdout",
     "output_type": "stream",
     "text": [
      "Regular solve [-94.15682875  99.99920768]\n",
      "Classic solve [-98. 100.]\n"
     ]
    }
   ],
   "source": [
    "from numpy import trace, array,identity\n",
    "from numpy.linalg import inv,norm,solve,pinv\n",
    "from scipy.optimize import minimize\n",
    "\n",
    "n=2\n",
    "epsilon=100\n",
    "\n",
    "# Возмущенное уравнение\n",
    "A=array([[1,1],\n",
    "        [0,epsilon]])\n",
    "\n",
    "b=array([2,\n",
    "        epsilon**2])\n",
    "\n",
    "# Единичная матрица размерности n x n\n",
    "I=identity(n)\n",
    "\n",
    "# Решение функционала Тихонова\n",
    "def z(alpha):\n",
    "    return inv(A.T@A+alpha*I)@(A.T@b)\n",
    "\n",
    "# Функционал обобщенной перекрестной проверки\n",
    "def G(alpha):\n",
    "    return norm((I-A@inv(A.T@A+alpha*I)@A.T)@b)**2/\\\n",
    "                trace(I-A@inv(A.T@A+alpha*I)@A.T)**2\n",
    "\n",
    "alpha = minimize(G, [-1/2]).x\n",
    "\n",
    "print('Regular solve',z(alpha))\n",
    "try:\n",
    "    print('Classic solve',inv(A)@b)\n",
    "except:\n",
    "    print('Pseudo solve',pinv(A)@b)"
   ]
  },
  {
   "cell_type": "code",
   "execution_count": null,
   "metadata": {},
   "outputs": [],
   "source": []
  }
 ],
 "metadata": {
  "kernelspec": {
   "display_name": "Python 3",
   "language": "python",
   "name": "python3"
  },
  "language_info": {
   "codemirror_mode": {
    "name": "ipython",
    "version": 3
   },
   "file_extension": ".py",
   "mimetype": "text/x-python",
   "name": "python",
   "nbconvert_exporter": "python",
   "pygments_lexer": "ipython3",
   "version": "3.7.0"
  }
 },
 "nbformat": 4,
 "nbformat_minor": 2
}
